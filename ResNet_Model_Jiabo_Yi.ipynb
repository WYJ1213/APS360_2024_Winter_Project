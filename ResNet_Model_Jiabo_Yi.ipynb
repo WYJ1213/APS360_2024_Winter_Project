{
  "nbformat": 4,
  "nbformat_minor": 0,
  "metadata": {
    "colab": {
      "provenance": []
    },
    "kernelspec": {
      "name": "python3",
      "display_name": "Python 3"
    },
    "language_info": {
      "name": "python"
    }
  },
  "cells": [
    {
      "cell_type": "markdown",
      "source": [
        "#**Import**"
      ],
      "metadata": {
        "id": "bwg-YsBlaQJW"
      }
    },
    {
      "cell_type": "code",
      "execution_count": null,
      "metadata": {
        "id": "S-Y7r6E0G_lh"
      },
      "outputs": [],
      "source": [
        "import pandas as pd\n",
        "from sklearn.model_selection import GridSearchCV\n",
        "import matplotlib.pyplot as plt\n",
        "from skimage.transform import resize\n",
        "from skimage.io import imread\n",
        "import numpy as np\n",
        "from sklearn.metrics import classification_report,accuracy_score,confusion_matrix\n",
        "import pickle\n",
        "import seaborn as sns\n",
        "import time\n",
        "import torch\n",
        "import torch.nn as nn\n",
        "import torch.nn.functional as F\n",
        "import torch.optim as optim\n",
        "from sklearn.metrics import accuracy_score, f1_score\n",
        "import torchvision\n",
        "import torchvision.models as models\n",
        "from torch.utils.data.sampler import SubsetRandomSampler\n",
        "import os\n",
        "from torchvision import datasets, transforms\n",
        "from sklearn.model_selection import train_test_split\n",
        "from torch.utils.data import DataLoader\n",
        "from sklearn.metrics import confusion_matrix, ConfusionMatrixDisplay\n",
        "Categories=['trash','recycle','organics', 'hazardous']"
      ]
    },
    {
      "cell_type": "markdown",
      "source": [
        "#**Load Data**"
      ],
      "metadata": {
        "id": "UAYX_ybmabbw"
      }
    },
    {
      "cell_type": "code",
      "source": [
        "from google.colab import drive\n",
        "drive.mount('/content/drive')"
      ],
      "metadata": {
        "colab": {
          "base_uri": "https://localhost:8080/"
        },
        "id": "v9NoMDXXLW2Q",
        "outputId": "d55c0f98-f93a-46f8-c84c-efd9e55329de"
      },
      "execution_count": null,
      "outputs": [
        {
          "output_type": "stream",
          "name": "stdout",
          "text": [
            "Mounted at /content/drive\n"
          ]
        }
      ]
    },
    {
      "cell_type": "code",
      "source": [
        "train_dir=\"/content/drive/My Drive/APS360data/train\"\n",
        "val_dir=\"/content/drive/My Drive/APS360data/val\"\n",
        "test_dir=\"/content/drive/My Drive/APS360data/test\""
      ],
      "metadata": {
        "id": "7L1NuBYdLY5h"
      },
      "execution_count": null,
      "outputs": []
    },
    {
      "cell_type": "code",
      "source": [
        "import torch\n",
        "from torchvision import datasets, transforms\n",
        "from torch.utils.data import DataLoader\n",
        "\n",
        "torch.manual_seed(1)\n",
        "# Define transformations and normalization for your images:\n",
        "transform = transforms.Compose([\n",
        "    transforms.Resize((224, 224)),  # Resize images for the resnet model\n",
        "    transforms.ToTensor(),\n",
        "    transforms.Normalize(mean=[0.485, 0.456, 0.406], std=[0.229, 0.224, 0.225])  # Standard normalization for ImageNet\n",
        "])\n",
        "\n",
        "# Load datasets:\n",
        "train_dataset = datasets.ImageFolder(train_dir, transform=transform)\n",
        "val_dataset = datasets.ImageFolder(val_dir, transform=transform)\n",
        "test_dataset = datasets.ImageFolder(test_dir, transform=transform)\n",
        "\n",
        "# Set up data loaders:\n",
        "train_loader = DataLoader(train_dataset, batch_size=32, shuffle=True)  #Shuffle is to ensure the model isn’t adapting its learning to any kind of spurious pattern.\n",
        "validation_loader = DataLoader(val_dataset, batch_size=32, shuffle=False)\n",
        "test_loader = DataLoader(test_dataset, batch_size=32, shuffle=False)"
      ],
      "metadata": {
        "id": "Goo_R_OGLzKQ"
      },
      "execution_count": null,
      "outputs": []
    },
    {
      "cell_type": "markdown",
      "source": [
        "#**Model**"
      ],
      "metadata": {
        "id": "bHyvR2_wajDV"
      }
    },
    {
      "cell_type": "code",
      "source": [
        "class ResBlock(nn.Module):\n",
        "    def __init__(self, in_channels, out_channels, downsample):\n",
        "        super().__init__()\n",
        "        if downsample:\n",
        "            self.conv1 = nn.Conv2d(in_channels, out_channels, kernel_size=3, stride=2, padding=1)\n",
        "            self.shortcut = nn.Sequential(\n",
        "                nn.Conv2d(in_channels, out_channels, kernel_size=1, stride=2),\n",
        "                nn.BatchNorm2d(out_channels)\n",
        "            )\n",
        "        else:\n",
        "            self.conv1 = nn.Conv2d(in_channels, out_channels, kernel_size=3, stride=1, padding=1)\n",
        "            self.shortcut = nn.Sequential()\n",
        "\n",
        "        self.conv2 = nn.Conv2d(out_channels, out_channels, kernel_size=3, stride=1, padding=1)\n",
        "        self.bn1 = nn.BatchNorm2d(out_channels)\n",
        "        self.bn2 = nn.BatchNorm2d(out_channels)\n",
        "\n",
        "    def forward(self, input):\n",
        "        shortcut = self.shortcut(input)\n",
        "        input = nn.ReLU()(self.bn1(self.conv1(input)))\n",
        "        input = nn.ReLU()(self.bn2(self.conv2(input)))\n",
        "        input = input + shortcut\n",
        "        return nn.ReLU()(input)"
      ],
      "metadata": {
        "id": "vBDnLZvVSwk8"
      },
      "execution_count": null,
      "outputs": []
    },
    {
      "cell_type": "code",
      "source": [
        "class ResNet18(nn.Module):\n",
        "    def __init__(self, in_channels, resblock, num_classes = 4):\n",
        "        super().__init__()\n",
        "        self.layer0 = nn.Sequential(\n",
        "            nn.Conv2d(in_channels, 64, kernel_size=7, stride=2, padding=3),\n",
        "            nn.MaxPool2d(kernel_size=3, stride=2, padding=1),\n",
        "            nn.BatchNorm2d(64),\n",
        "            nn.ReLU()\n",
        "        )\n",
        "\n",
        "        self.layer1 = nn.Sequential(\n",
        "            resblock(64, 64, downsample=False),\n",
        "            resblock(64, 64, downsample=False)\n",
        "        )\n",
        "\n",
        "        self.layer2 = nn.Sequential(\n",
        "            resblock(64, 128, downsample=True),\n",
        "            resblock(128, 128, downsample=False)\n",
        "        )\n",
        "\n",
        "        self.layer3 = nn.Sequential(\n",
        "            resblock(128, 256, downsample=True),\n",
        "            resblock(256, 256, downsample=False)\n",
        "        )\n",
        "\n",
        "\n",
        "        self.layer4 = nn.Sequential(\n",
        "            resblock(256, 512, downsample=True),\n",
        "            resblock(512, 512, downsample=False)\n",
        "        )\n",
        "\n",
        "        self.gap = torch.nn.AdaptiveAvgPool2d(1)\n",
        "        self.fc = torch.nn.Linear(512, 4)\n",
        "\n",
        "    def forward(self, input):\n",
        "        input = self.layer0(input)\n",
        "        input = self.layer1(input)\n",
        "        input = self.layer2(input)\n",
        "        input = self.layer3(input)\n",
        "        input = self.layer4(input)\n",
        "        input = self.gap(input)\n",
        "        input = torch.flatten(input, start_dim=1)\n",
        "        input = self.fc(input)\n",
        "\n",
        "        return input\n"
      ],
      "metadata": {
        "id": "DTwKgYFzSpxq"
      },
      "execution_count": null,
      "outputs": []
    },
    {
      "cell_type": "code",
      "source": [
        "from torchsummary import summary\n",
        "resnet18 = ResNet18(3, ResBlock, num_classes = 4)\n",
        "resnet18.to(torch.device(\"cuda:0\" if torch.cuda.is_available() else \"cpu\"))\n",
        "summary(resnet18, (3, 224, 224))"
      ],
      "metadata": {
        "id": "cqmDLF_FZRWM",
        "colab": {
          "base_uri": "https://localhost:8080/"
        },
        "outputId": "56b0970c-9301-4484-8878-e27a5e8ba306"
      },
      "execution_count": null,
      "outputs": [
        {
          "output_type": "stream",
          "name": "stdout",
          "text": [
            "----------------------------------------------------------------\n",
            "        Layer (type)               Output Shape         Param #\n",
            "================================================================\n",
            "            Conv2d-1         [-1, 64, 112, 112]           9,472\n",
            "         MaxPool2d-2           [-1, 64, 56, 56]               0\n",
            "       BatchNorm2d-3           [-1, 64, 56, 56]             128\n",
            "              ReLU-4           [-1, 64, 56, 56]               0\n",
            "            Conv2d-5           [-1, 64, 56, 56]          36,928\n",
            "       BatchNorm2d-6           [-1, 64, 56, 56]             128\n",
            "            Conv2d-7           [-1, 64, 56, 56]          36,928\n",
            "       BatchNorm2d-8           [-1, 64, 56, 56]             128\n",
            "          ResBlock-9           [-1, 64, 56, 56]               0\n",
            "           Conv2d-10           [-1, 64, 56, 56]          36,928\n",
            "      BatchNorm2d-11           [-1, 64, 56, 56]             128\n",
            "           Conv2d-12           [-1, 64, 56, 56]          36,928\n",
            "      BatchNorm2d-13           [-1, 64, 56, 56]             128\n",
            "         ResBlock-14           [-1, 64, 56, 56]               0\n",
            "           Conv2d-15          [-1, 128, 28, 28]           8,320\n",
            "      BatchNorm2d-16          [-1, 128, 28, 28]             256\n",
            "           Conv2d-17          [-1, 128, 28, 28]          73,856\n",
            "      BatchNorm2d-18          [-1, 128, 28, 28]             256\n",
            "           Conv2d-19          [-1, 128, 28, 28]         147,584\n",
            "      BatchNorm2d-20          [-1, 128, 28, 28]             256\n",
            "         ResBlock-21          [-1, 128, 28, 28]               0\n",
            "           Conv2d-22          [-1, 128, 28, 28]         147,584\n",
            "      BatchNorm2d-23          [-1, 128, 28, 28]             256\n",
            "           Conv2d-24          [-1, 128, 28, 28]         147,584\n",
            "      BatchNorm2d-25          [-1, 128, 28, 28]             256\n",
            "         ResBlock-26          [-1, 128, 28, 28]               0\n",
            "           Conv2d-27          [-1, 256, 14, 14]          33,024\n",
            "      BatchNorm2d-28          [-1, 256, 14, 14]             512\n",
            "           Conv2d-29          [-1, 256, 14, 14]         295,168\n",
            "      BatchNorm2d-30          [-1, 256, 14, 14]             512\n",
            "           Conv2d-31          [-1, 256, 14, 14]         590,080\n",
            "      BatchNorm2d-32          [-1, 256, 14, 14]             512\n",
            "         ResBlock-33          [-1, 256, 14, 14]               0\n",
            "           Conv2d-34          [-1, 256, 14, 14]         590,080\n",
            "      BatchNorm2d-35          [-1, 256, 14, 14]             512\n",
            "           Conv2d-36          [-1, 256, 14, 14]         590,080\n",
            "      BatchNorm2d-37          [-1, 256, 14, 14]             512\n",
            "         ResBlock-38          [-1, 256, 14, 14]               0\n",
            "           Conv2d-39            [-1, 512, 7, 7]         131,584\n",
            "      BatchNorm2d-40            [-1, 512, 7, 7]           1,024\n",
            "           Conv2d-41            [-1, 512, 7, 7]       1,180,160\n",
            "      BatchNorm2d-42            [-1, 512, 7, 7]           1,024\n",
            "           Conv2d-43            [-1, 512, 7, 7]       2,359,808\n",
            "      BatchNorm2d-44            [-1, 512, 7, 7]           1,024\n",
            "         ResBlock-45            [-1, 512, 7, 7]               0\n",
            "           Conv2d-46            [-1, 512, 7, 7]       2,359,808\n",
            "      BatchNorm2d-47            [-1, 512, 7, 7]           1,024\n",
            "           Conv2d-48            [-1, 512, 7, 7]       2,359,808\n",
            "      BatchNorm2d-49            [-1, 512, 7, 7]           1,024\n",
            "         ResBlock-50            [-1, 512, 7, 7]               0\n",
            "AdaptiveAvgPool2d-51            [-1, 512, 1, 1]               0\n",
            "           Linear-52                    [-1, 4]           2,052\n",
            "================================================================\n",
            "Total params: 11,183,364\n",
            "Trainable params: 11,183,364\n",
            "Non-trainable params: 0\n",
            "----------------------------------------------------------------\n",
            "Input size (MB): 0.57\n",
            "Forward/backward pass size (MB): 42.11\n",
            "Params size (MB): 42.66\n",
            "Estimated Total Size (MB): 85.35\n",
            "----------------------------------------------------------------\n"
          ]
        }
      ]
    },
    {
      "cell_type": "markdown",
      "source": [
        "#**Train the model**"
      ],
      "metadata": {
        "id": "_cA55UE9axDB"
      }
    },
    {
      "cell_type": "code",
      "source": [
        "resnet18_pretrained = models.resnet.resnet18(pretrained=True)"
      ],
      "metadata": {
        "colab": {
          "base_uri": "https://localhost:8080/"
        },
        "id": "41npbOVUK2AK",
        "outputId": "a28f2b09-d213-493a-da3e-19270dbae07f"
      },
      "execution_count": null,
      "outputs": [
        {
          "output_type": "stream",
          "name": "stderr",
          "text": [
            "/usr/local/lib/python3.10/dist-packages/torchvision/models/_utils.py:208: UserWarning: The parameter 'pretrained' is deprecated since 0.13 and may be removed in the future, please use 'weights' instead.\n",
            "  warnings.warn(\n",
            "/usr/local/lib/python3.10/dist-packages/torchvision/models/_utils.py:223: UserWarning: Arguments other than a weight enum or `None` for 'weights' are deprecated since 0.13 and may be removed in the future. The current behavior is equivalent to passing `weights=ResNet18_Weights.IMAGENET1K_V1`. You can also use `weights=ResNet18_Weights.DEFAULT` to get the most up-to-date weights.\n",
            "  warnings.warn(msg)\n",
            "Downloading: \"https://download.pytorch.org/models/resnet18-f37072fd.pth\" to /root/.cache/torch/hub/checkpoints/resnet18-f37072fd.pth\n",
            "100%|██████████| 44.7M/44.7M [00:00<00:00, 60.3MB/s]\n"
          ]
        }
      ]
    },
    {
      "cell_type": "code",
      "source": [
        "def train_net(model, train_loader, val_loader, batch_size=32,\n",
        "              lr=0.001, num_epochs=15):\n",
        "    criterion = nn.CrossEntropyLoss()\n",
        "    # For multi-class classification\n",
        "    optimizer = optim.Adam(resnet18.parameters(), lr=0.001)  # Use Adam optimizer with a learning rate of 0.01\n",
        "\n",
        "    n = 0\n",
        "    iters, losses, train_acc_list,val_acc_list = [],[],[],[]\n",
        "    for epoch in range(num_epochs):\n",
        "        model.train()  # Set model to training mode\n",
        "        running_loss = 0.0\n",
        "        train_preds = []\n",
        "        train_targets = []\n",
        "\n",
        "        for inputs, labels in train_loader:\n",
        "            inputs, labels = inputs.to(torch.device(\"cuda:0\" if torch.cuda.is_available() else \"cpu\")), labels.to(torch.device(\"cuda:0\" if torch.cuda.is_available() else \"cpu\"))\n",
        "\n",
        "            optimizer.zero_grad()\n",
        "\n",
        "            outputs = model(inputs)\n",
        "            loss = criterion(outputs, labels)\n",
        "            loss.backward()\n",
        "            optimizer.step()\n",
        "\n",
        "            running_loss += loss.item() * inputs.size(0)\n",
        "            _, predicted = torch.max(outputs, 1)\n",
        "            train_preds.extend(predicted.cpu().numpy())\n",
        "            train_targets.extend(labels.cpu().numpy())\n",
        "\n",
        "        epoch_loss = running_loss / len(train_loader.dataset)\n",
        "        epoch_acc = accuracy_score(train_targets, train_preds)\n",
        "        train_acc_list.append(epoch_acc)\n",
        "        epoch_f1 = f1_score(train_targets, train_preds, average='weighted')\n",
        "\n",
        "\n",
        "        model.eval()  # Set model to evaluate mode\n",
        "        val_running_loss = 0.0\n",
        "        val_preds = []\n",
        "        val_targets = []\n",
        "\n",
        "        with torch.no_grad():\n",
        "            for inputs, labels in val_loader:\n",
        "                inputs, labels = inputs.to(torch.device(\"cuda:0\" if torch.cuda.is_available() else \"cpu\")), labels.to(torch.device(\"cuda:0\" if torch.cuda.is_available() else \"cpu\"))\n",
        "\n",
        "                outputs = model(inputs)\n",
        "                loss = criterion(outputs, labels)\n",
        "\n",
        "                val_running_loss += loss.item() * inputs.size(0)\n",
        "                _, predicted = torch.max(outputs, 1)\n",
        "                val_preds.extend(predicted.cpu().numpy())\n",
        "                val_targets.extend(labels.cpu().numpy())\n",
        "\n",
        "        val_loss = val_running_loss / len(val_loader.dataset)\n",
        "        val_acc = accuracy_score(val_targets, val_preds)\n",
        "        val_acc_list.append(val_acc)\n",
        "        val_f1 = f1_score(val_targets, val_preds, average='weighted')\n",
        "\n",
        "        n += 1\n",
        "        iters.append(n)\n",
        "        losses.append(float(val_loss)/batch_size)\n",
        "\n",
        "        print(f'Epoch {epoch+1}/{num_epochs}')\n",
        "        print(f'Training Accuracy: {epoch_acc:.4f}, F1-Score: {epoch_f1:.4f}, Loss: {epoch_loss:.4f}')\n",
        "        print(f'Validation Accuracy: {val_acc:.4f}, F1-Score: {val_f1:.4f}, Loss: {val_loss:.4f}, ')\n",
        "    plt.title(\"Training Curve\")\n",
        "    plt.plot(iters, losses, label=\"Train\")\n",
        "    plt.xlabel(\"Epochs\")\n",
        "    plt.ylabel(\"Loss\")\n",
        "    plt.show()\n",
        "\n",
        "    plt.title(\"Accuracy Curve\")\n",
        "    plt.plot(iters, train_acc_list, label=\"Training\")\n",
        "    plt.plot(iters, val_acc_list, label=\"Validation\")\n",
        "    plt.xlabel(\"Epochs\")\n",
        "    plt.ylabel(\"Accuracy\")\n",
        "    plt.legend(loc='best')\n",
        "    plt.show()"
      ],
      "metadata": {
        "id": "wBTWzO8VOvjj"
      },
      "execution_count": null,
      "outputs": []
    },
    {
      "cell_type": "code",
      "source": [
        "train_net(resnet18,train_loader, validation_loader,\n",
        "          batch_size = 32, lr = 0.001, num_epochs = 15)"
      ],
      "metadata": {
        "id": "7dmrwHe7PzkS"
      },
      "execution_count": null,
      "outputs": []
    },
    {
      "cell_type": "code",
      "source": [
        "resnet18 = ResNet18(3, ResBlock, num_classes = 4)\n",
        "resnet18.to(torch.device(\"cuda:0\" if torch.cuda.is_available() else \"cpu\"))\n",
        "\n",
        "train_net(resnet18,train_loader, validation_loader,\n",
        "          batch_size = 32, lr = 0.001, num_epochs = 15)"
      ],
      "metadata": {
        "colab": {
          "base_uri": "https://localhost:8080/",
          "height": 1000
        },
        "id": "cVmBdyicBowM",
        "outputId": "8412b25d-5f81-469f-ef28-3252c1a0fb68"
      },
      "execution_count": null,
      "outputs": [
        {
          "output_type": "stream",
          "name": "stdout",
          "text": [
            "Epoch 1/15\n",
            "Training Accuracy: 0.6050, F1-Score: 0.6034, Loss: 1.1290\n",
            "Validation Accuracy: 0.4550, F1-Score: 0.4086, Loss: 10.3019, \n",
            "Epoch 2/15\n",
            "Training Accuracy: 0.6983, F1-Score: 0.6949, Loss: 0.8232\n",
            "Validation Accuracy: 0.7150, F1-Score: 0.6960, Loss: 0.8292, \n",
            "Epoch 3/15\n",
            "Training Accuracy: 0.7167, F1-Score: 0.7087, Loss: 0.7692\n",
            "Validation Accuracy: 0.6250, F1-Score: 0.6128, Loss: 0.8808, \n",
            "Epoch 4/15\n",
            "Training Accuracy: 0.7017, F1-Score: 0.6947, Loss: 0.7547\n",
            "Validation Accuracy: 0.6650, F1-Score: 0.6642, Loss: 0.7715, \n",
            "Epoch 5/15\n",
            "Training Accuracy: 0.7367, F1-Score: 0.7336, Loss: 0.6711\n",
            "Validation Accuracy: 0.6800, F1-Score: 0.6807, Loss: 0.8254, \n",
            "Epoch 6/15\n",
            "Training Accuracy: 0.7383, F1-Score: 0.7363, Loss: 0.6930\n",
            "Validation Accuracy: 0.6450, F1-Score: 0.6507, Loss: 0.8455, \n",
            "Epoch 7/15\n",
            "Training Accuracy: 0.7300, F1-Score: 0.7302, Loss: 0.6561\n",
            "Validation Accuracy: 0.6950, F1-Score: 0.6869, Loss: 0.7913, \n",
            "Epoch 8/15\n",
            "Training Accuracy: 0.7733, F1-Score: 0.7713, Loss: 0.6325\n",
            "Validation Accuracy: 0.7400, F1-Score: 0.7335, Loss: 0.7768, \n",
            "Epoch 9/15\n",
            "Training Accuracy: 0.7483, F1-Score: 0.7468, Loss: 0.6786\n",
            "Validation Accuracy: 0.7300, F1-Score: 0.7121, Loss: 0.7262, \n",
            "Epoch 10/15\n",
            "Training Accuracy: 0.7867, F1-Score: 0.7867, Loss: 0.5956\n",
            "Validation Accuracy: 0.6150, F1-Score: 0.6088, Loss: 1.0676, \n",
            "Epoch 11/15\n",
            "Training Accuracy: 0.7817, F1-Score: 0.7817, Loss: 0.5799\n",
            "Validation Accuracy: 0.6850, F1-Score: 0.6693, Loss: 0.8261, \n",
            "Epoch 12/15\n",
            "Training Accuracy: 0.7767, F1-Score: 0.7769, Loss: 0.5915\n",
            "Validation Accuracy: 0.7400, F1-Score: 0.7334, Loss: 0.9301, \n",
            "Epoch 13/15\n",
            "Training Accuracy: 0.7833, F1-Score: 0.7829, Loss: 0.5640\n",
            "Validation Accuracy: 0.5250, F1-Score: 0.5077, Loss: 1.7917, \n",
            "Epoch 14/15\n",
            "Training Accuracy: 0.7900, F1-Score: 0.7914, Loss: 0.5450\n",
            "Validation Accuracy: 0.7100, F1-Score: 0.7005, Loss: 0.8220, \n",
            "Epoch 15/15\n",
            "Training Accuracy: 0.7850, F1-Score: 0.7820, Loss: 0.5579\n",
            "Validation Accuracy: 0.6250, F1-Score: 0.6180, Loss: 0.9779, \n"
          ]
        },
        {
          "output_type": "display_data",
          "data": {
            "text/plain": [
              "<Figure size 640x480 with 1 Axes>"
            ],
            "image/png": "[encoded data removed]"
          },
          "metadata": {}
        },
        {
          "output_type": "display_data",
          "data": {
            "text/plain": [
              "<Figure size 640x480 with 1 Axes>"
            ],
            "image/png": "[encoded data removed]"
          },
          "metadata": {}
        }
      ]
    }
  ]
}